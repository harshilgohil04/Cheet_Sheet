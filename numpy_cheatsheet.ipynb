{
 "cells": [
  {
   "cell_type": "markdown",
   "metadata": {},
   "source": [
    "NUMPY CHEAT SHEET"
   ]
  },
  {
   "cell_type": "code",
   "execution_count": 2,
   "metadata": {},
   "outputs": [],
   "source": [
    "import numpy as np"
   ]
  },
  {
   "cell_type": "code",
   "execution_count": 3,
   "metadata": {},
   "outputs": [],
   "source": [
    "# creating array \n",
    "a = np.array([1,2,3])\n",
    "b = np.array([(1.5,2,3),(4,5,6)])\n",
    "c = np.array([[(1.5,2,3),(4,5,6)],[(3,2,1),(4,5,6,)]])\n"
   ]
  },
  {
   "cell_type": "code",
   "execution_count": 4,
   "metadata": {},
   "outputs": [
    {
     "data": {
      "text/plain": [
       "array([[0., 0.],\n",
       "       [0., 0.],\n",
       "       [0., 0.]])"
      ]
     },
     "execution_count": 4,
     "metadata": {},
     "output_type": "execute_result"
    }
   ],
   "source": [
    "# initial placeholder\n",
    "\n",
    "np.zeros((2,5))                 #(creat a array of zeros )\n",
    "\n",
    "np.ones((3,3))                  #(creat a array of ones)\n",
    "\n",
    "d=np.arange(10,25,5)            #(creat a array of evenly spaced values (step values))\n",
    "\n",
    "np.linspace(0,2,9)              #(creat a array of evenly spaced values (number osf samples))\n",
    "\n",
    "e=np.full((3,3,),7)             #(creat a constant array)\n",
    "\n",
    "f=np.eye(3)                     #(creat 3x3 identity matrix)\n",
    "\n",
    "np.random.random((2,2))         #(creat array with random values)\n",
    "\n",
    "np.empty((3,2))                 #(creat an empty array)\n",
    "\n",
    "\n",
    "\n"
   ]
  },
  {
   "cell_type": "code",
   "execution_count": 5,
   "metadata": {},
   "outputs": [
    {
     "data": {
      "text/plain": [
       "array([1, 2, 3])"
      ]
     },
     "execution_count": 5,
     "metadata": {},
     "output_type": "execute_result"
    }
   ],
   "source": [
    "# saving and loading on disk\n",
    "np.save('my_array',a)\n",
    "np.savez('array.npz',a,b)\n",
    "np.load('my_array.npy')"
   ]
  },
  {
   "cell_type": "code",
   "execution_count": 6,
   "metadata": {},
   "outputs": [],
   "source": [
    "# saving and loading text file \n",
    "#np.loadtxt(\"myfile.txt\")        #(load txt file)\n",
    "\n",
    "#np.genfromtxt(\"my_file.csv\")\n",
    "\n",
    "np.savetxt(\"my_array.txt\",a)\n",
    "\n"
   ]
  },
  {
   "cell_type": "code",
   "execution_count": 7,
   "metadata": {},
   "outputs": [
    {
     "data": {
      "text/plain": [
       "numpy.str_"
      ]
     },
     "execution_count": 7,
     "metadata": {},
     "output_type": "execute_result"
    }
   ],
   "source": [
    "# data types\n",
    "\n",
    "np.int64            #(signed 64bit intger types)\n",
    "\n",
    "np.float32          #(standard doulble-precision floating point)\n",
    "\n",
    "np.complex128       #(complex number represented by 128 floats)\n",
    "\n",
    "np.bool_            #(boolean type string TRUE and FALSE values)\n",
    "\n",
    "np.object_          #(python object type)\n",
    "\n",
    "np.string_          #(fixed-length string type)\n",
    "\n",
    "np.unicode_         #(fixed-length unicode type)"
   ]
  },
  {
   "cell_type": "code",
   "execution_count": 8,
   "metadata": {},
   "outputs": [
    {
     "data": {
      "text/plain": [
       "<function ndarray.astype>"
      ]
     },
     "execution_count": 8,
     "metadata": {},
     "output_type": "execute_result"
    }
   ],
   "source": [
    "# inspecting your array \n",
    "\n",
    "a.shape             #(array dimension)\n",
    "\n",
    "len(a)              #(length of array)\n",
    "\n",
    "b.ndim              #(number of array dimension)\n",
    "\n",
    "e.size              #(number of elements)\n",
    "\n",
    "b.dtype             #(data type of array elements)\n",
    "\n",
    "b.dtype.name        #(name of data type)\n",
    "\n",
    "b.astype            #(convert array into different type)"
   ]
  },
  {
   "cell_type": "code",
   "execution_count": 9,
   "metadata": {},
   "outputs": [
    {
     "data": {
      "text/plain": [
       "array([[7., 7., 7.],\n",
       "       [7., 7., 7.],\n",
       "       [7., 7., 7.]])"
      ]
     },
     "execution_count": 9,
     "metadata": {},
     "output_type": "execute_result"
    }
   ],
   "source": [
    "# ARRAY MATHEMATICS\n",
    "    # arithmetic operations \n",
    "\n",
    "g= a-b\n",
    "np.subtract(a,b)                #(subtraction)\n",
    "\n",
    "b+a\n",
    "np.add(b,a)                    #(addition)\n",
    "\n",
    "a/b\n",
    "np.divide(a,b)                 #(division)\n",
    "\n",
    "a*b\n",
    "np.multiply(a,b)                #(multiplication)\n",
    "\n",
    "np.exp(b)                       #(exponentiation)\n",
    "\n",
    "np.sqrt(b)                      #(square root)\n",
    "\n",
    "np.sin(a)                       #(print sines of array)\n",
    "\n",
    "np.cos(b)                       #(element wise cosine)\n",
    "\n",
    "np.log(a)                       #(element wise natural logarithm)\n",
    "\n",
    "e.dot(f)                        #(Dot product)"
   ]
  },
  {
   "cell_type": "code",
   "execution_count": null,
   "metadata": {},
   "outputs": [],
   "source": [
    "# asking for help \n",
    "np.info(np.ndarray)"
   ]
  },
  {
   "cell_type": "code",
   "execution_count": 11,
   "metadata": {},
   "outputs": [
    {
     "data": {
      "text/plain": [
       "False"
      ]
     },
     "execution_count": 11,
     "metadata": {},
     "output_type": "execute_result"
    }
   ],
   "source": [
    "# comparison\n",
    "\n",
    "a==b                    #(element wise comparison)\n",
    "\n",
    "a<2                     #(element wise comparison)\n",
    "\n",
    "np.array_equal(a,b)     #(array wise comparison)\n"
   ]
  },
  {
   "cell_type": "code",
   "execution_count": 12,
   "metadata": {},
   "outputs": [
    {
     "data": {
      "text/plain": [
       "1.5920810978785667"
      ]
     },
     "execution_count": 12,
     "metadata": {},
     "output_type": "execute_result"
    }
   ],
   "source": [
    "# aggeregate functions\n",
    "\n",
    "a.sum()                 #(array wise sum)\n",
    "\n",
    "a.min()                 #(array wise  minimum values)\n",
    "\n",
    "b.max(axis=0)           #(maximum value of an array row)\n",
    "\n",
    "b.cumsum(axis=1)        #(cumulative sum of the elements)\n",
    "\n",
    "a.mean()                #(mean)\n",
    "\n",
    "np.median(b)            #(median)\n",
    "\n",
    "np.corrcoef(b)           #(coerrelation coefficient)\n",
    "\n",
    "np.std(b)                #(standard deviation)"
   ]
  },
  {
   "cell_type": "code",
   "execution_count": 13,
   "metadata": {},
   "outputs": [],
   "source": [
    "# copying array\n",
    "\n",
    "h= a.view()                 #(creat a view of array with same data)\n",
    "\n",
    "np.copy(a)                  #(creat a copy of array)\n",
    "\n",
    "h=a.copy()                  #(creat a deep copy of the array)"
   ]
  },
  {
   "cell_type": "code",
   "execution_count": 14,
   "metadata": {},
   "outputs": [],
   "source": [
    "# sorting arrays\n",
    "\n",
    "a.sort()                            #(sort an array)\n",
    "\n",
    "a.sort('decsending'==False)         #(sort an array acsending way)\n",
    "\n",
    "c.sort(axis=0)                      #(sort the elements of an array's axis)\n"
   ]
  },
  {
   "cell_type": "code",
   "execution_count": 15,
   "metadata": {},
   "outputs": [
    {
     "data": {
      "text/plain": [
       "array([[4. , 5. , 6. , 4. ],\n",
       "       [1.5, 2. , 3. , 1.5],\n",
       "       [4. , 5. , 6. , 4. ],\n",
       "       [1.5, 2. , 3. , 1.5]])"
      ]
     },
     "execution_count": 15,
     "metadata": {},
     "output_type": "execute_result"
    }
   ],
   "source": [
    "# subsetting, slicing, indexing \n",
    "    #subsetting \n",
    "\n",
    "a[2]                #(select the element at index 2)\n",
    "\n",
    "b[1,2]              #(select the element from [row][column])\n",
    "\n",
    "#Slicing\n",
    "\n",
    "a[0:2]              #(select item at index 0 and 1)\n",
    "\n",
    "b[0:2,1]            #(select item at row 0 and 1 in column 1)\n",
    "\n",
    "b[:1]               #(select all item at row 0)\n",
    "\n",
    "c[1,...]            #(same as 1,:,:)\n",
    "\n",
    "a[: : -1]           #reversed array \n",
    "\n",
    "# boolean indexing \n",
    "\n",
    "a[a<2]              #(select element from a less than 2)\n",
    "\n",
    "# fancy indexing \n",
    "\n",
    "b[[1,0,1,0],[0,1,2,0]]              #(select elements (1,0),(0,1),(1,2)and (0,0))\n",
    "\n",
    "b[[1,0,1,0]][:,[0,1,2,0]]           #(select the subset of the matrix's row and colummn)\n",
    "\n",
    "\n"
   ]
  },
  {
   "cell_type": "code",
   "execution_count": 30,
   "metadata": {},
   "outputs": [
    {
     "data": {
      "text/plain": [
       "[array([[[1.5, 2. , 1. ],\n",
       "         [4. , 5. , 6. ]]]),\n",
       " array([[[3., 2., 3.],\n",
       "         [4., 5., 6.]]])]"
      ]
     },
     "execution_count": 30,
     "metadata": {},
     "output_type": "execute_result"
    }
   ],
   "source": [
    "# array manipulation\n",
    "\n",
    "i=np.transpose(b)           #(permute array dimensions)\n",
    "\n",
    "i.T                         #(permute array dimensions)         \n",
    "\n",
    "#changing array shape \n",
    "\n",
    "b.ravel()                   #(flatten the array)\n",
    "\n",
    "g.reshape(3,-2)             #(reshape,but don't change data)\n",
    "\n",
    "\n",
    "\n",
    "#adding/removing elements\n",
    "\n",
    "h.resize((2,6))             #(return new array with shape)\n",
    "h\n",
    "\n",
    "np.append(h,g)              #(append item to an array)\n",
    "\n",
    "np.insert(a,1,5)            #(insert item in array)\n",
    "\n",
    "np.delete(a,[1])            #(delet item from array)\n",
    "\n",
    "\n",
    "\n",
    "# combining array\n",
    "\n",
    "np.concatenate((a,d),axis=0)                #(concatenate arrays)\n",
    "\n",
    "np.vstack((a,b))                            #(stack array vertically row wise)\n",
    "\n",
    "np.r_[e,f]                                  #(stack array vertically row wise)\n",
    "\n",
    "np.hstack((e,f))                            #(stack array horizontally column wise)\n",
    "\n",
    "np.column_stack((a,d))                      #(creat stacked column wise array)\n",
    "\n",
    "np.c_[a,d]                                  #(creat stacked column wise array)\n",
    "\n",
    "\n",
    "\n",
    "# splitting array \n",
    "\n",
    "np.hsplit(a,3)                              #(split the array horizontally at the 3rd index)\n",
    "\n",
    "np.vsplit(c,2)                              #(split the array vertically at the 2nd index)\n",
    "\n",
    "\n",
    "\n",
    "\n",
    "\n"
   ]
  },
  {
   "cell_type": "code",
   "execution_count": null,
   "metadata": {},
   "outputs": [],
   "source": []
  }
 ],
 "metadata": {
  "kernelspec": {
   "display_name": "Python 3",
   "language": "python",
   "name": "python3"
  },
  "language_info": {
   "codemirror_mode": {
    "name": "ipython",
    "version": 3
   },
   "file_extension": ".py",
   "mimetype": "text/x-python",
   "name": "python",
   "nbconvert_exporter": "python",
   "pygments_lexer": "ipython3",
   "version": "3.10.10"
  }
 },
 "nbformat": 4,
 "nbformat_minor": 2
}
