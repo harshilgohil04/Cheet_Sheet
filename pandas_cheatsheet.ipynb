{
 "cells": [
  {
   "cell_type": "markdown",
   "metadata": {},
   "source": [
    "PANDAS CHEAT SHEET"
   ]
  },
  {
   "cell_type": "code",
   "execution_count": 2,
   "metadata": {},
   "outputs": [],
   "source": [
    "import pandas as pd "
   ]
  },
  {
   "cell_type": "code",
   "execution_count": 3,
   "metadata": {},
   "outputs": [
    {
     "data": {
      "text/plain": [
       "a    3\n",
       "b   -5\n",
       "c    9\n",
       "d    7\n",
       "dtype: int64"
      ]
     },
     "execution_count": 3,
     "metadata": {},
     "output_type": "execute_result"
    }
   ],
   "source": [
    "# pandas data structures \n",
    "    #series\n",
    "\n",
    "# a one dimensional labeled array capable of holding any data type. \n",
    "\n",
    "s= pd.Series([3,-5,9,7],index=['a','b','c','d'])\n",
    "s"
   ]
  },
  {
   "cell_type": "code",
   "execution_count": 4,
   "metadata": {},
   "outputs": [
    {
     "data": {
      "text/html": [
       "<div>\n",
       "<style scoped>\n",
       "    .dataframe tbody tr th:only-of-type {\n",
       "        vertical-align: middle;\n",
       "    }\n",
       "\n",
       "    .dataframe tbody tr th {\n",
       "        vertical-align: top;\n",
       "    }\n",
       "\n",
       "    .dataframe thead th {\n",
       "        text-align: right;\n",
       "    }\n",
       "</style>\n",
       "<table border=\"1\" class=\"dataframe\">\n",
       "  <thead>\n",
       "    <tr style=\"text-align: right;\">\n",
       "      <th></th>\n",
       "      <th>country</th>\n",
       "      <th>capital</th>\n",
       "      <th>population</th>\n",
       "    </tr>\n",
       "  </thead>\n",
       "  <tbody>\n",
       "    <tr>\n",
       "      <th>0</th>\n",
       "      <td>belgium</td>\n",
       "      <td>brussels</td>\n",
       "      <td>11190846</td>\n",
       "    </tr>\n",
       "    <tr>\n",
       "      <th>1</th>\n",
       "      <td>india</td>\n",
       "      <td>new delhi</td>\n",
       "      <td>130316035</td>\n",
       "    </tr>\n",
       "    <tr>\n",
       "      <th>2</th>\n",
       "      <td>brazil</td>\n",
       "      <td>brasilla</td>\n",
       "      <td>204589631</td>\n",
       "    </tr>\n",
       "  </tbody>\n",
       "</table>\n",
       "</div>"
      ],
      "text/plain": [
       "   country    capital  population\n",
       "0  belgium   brussels    11190846\n",
       "1    india  new delhi   130316035\n",
       "2   brazil   brasilla   204589631"
      ]
     },
     "execution_count": 4,
     "metadata": {},
     "output_type": "execute_result"
    }
   ],
   "source": [
    "# data frame\n",
    "###\n",
    "# two dimensional labeled data structures with columns of potentially different type.\n",
    "\n",
    "data = {'country': ['belgium','india','brazil'],\n",
    "        'capital':['brussels','new delhi','brasilla'],\n",
    "        'population':[11190846,130316035,204589631]}\n",
    "\n",
    "df=pd.DataFrame(data,columns=['country','capital','population'])\n",
    "df\n"
   ]
  },
  {
   "cell_type": "code",
   "execution_count": 5,
   "metadata": {},
   "outputs": [
    {
     "data": {
      "text/plain": [
       "'\\npd.read_csv(\\'c:\\\\Users\\\\Administrator\\\\Downloads\\\\archive\\\\austrian_airlines_reviews.csv\\')\\n\\ndf.to_csv(\\'mydataframe.csv\\')\\n\\n\\n# read and write to excel \\n#pd.read_excel(\\'file.xlsx\\')\\n\\ndf.to_excel(\"Superstore - Dataset.xlsx\")\\n \\n        '"
      ]
     },
     "execution_count": 5,
     "metadata": {},
     "output_type": "execute_result"
    }
   ],
   "source": [
    "# read and write to csv\n",
    "'''\n",
    "pd.read_csv('c:\\\\Users\\\\Administrator\\\\Downloads\\\\archive\\\\austrian_airlines_reviews.csv')\n",
    "\n",
    "df.to_csv('mydataframe.csv')\n",
    "\n",
    "\n",
    "# read and write to excel \n",
    "#pd.read_excel('file.xlsx')\n",
    "\n",
    "df.to_excel(\"Superstore - Dataset.xlsx\")\n",
    " \n",
    "        '''\n"
   ]
  },
  {
   "cell_type": "code",
   "execution_count": 6,
   "metadata": {},
   "outputs": [
    {
     "data": {
      "text/html": [
       "<div>\n",
       "<style scoped>\n",
       "    .dataframe tbody tr th:only-of-type {\n",
       "        vertical-align: middle;\n",
       "    }\n",
       "\n",
       "    .dataframe tbody tr th {\n",
       "        vertical-align: top;\n",
       "    }\n",
       "\n",
       "    .dataframe thead th {\n",
       "        text-align: right;\n",
       "    }\n",
       "</style>\n",
       "<table border=\"1\" class=\"dataframe\">\n",
       "  <thead>\n",
       "    <tr style=\"text-align: right;\">\n",
       "      <th></th>\n",
       "      <th>country</th>\n",
       "      <th>capital</th>\n",
       "      <th>population</th>\n",
       "    </tr>\n",
       "  </thead>\n",
       "  <tbody>\n",
       "    <tr>\n",
       "      <th>1</th>\n",
       "      <td>india</td>\n",
       "      <td>new delhi</td>\n",
       "      <td>130316035</td>\n",
       "    </tr>\n",
       "    <tr>\n",
       "      <th>2</th>\n",
       "      <td>brazil</td>\n",
       "      <td>brasilla</td>\n",
       "      <td>204589631</td>\n",
       "    </tr>\n",
       "  </tbody>\n",
       "</table>\n",
       "</div>"
      ],
      "text/plain": [
       "  country    capital  population\n",
       "1   india  new delhi   130316035\n",
       "2  brazil   brasilla   204589631"
      ]
     },
     "execution_count": 6,
     "metadata": {},
     "output_type": "execute_result"
    }
   ],
   "source": [
    "# selection\n",
    "    # getting\n",
    " \n",
    "s['b']              #(get one element)\n",
    "\n",
    "df[1:]              #(get subset of data frame)\n",
    "\n"
   ]
  },
  {
   "cell_type": "code",
   "execution_count": null,
   "metadata": {},
   "outputs": [],
   "source": []
  },
  {
   "cell_type": "code",
   "execution_count": 45,
   "metadata": {},
   "outputs": [
    {
     "data": {
      "text/plain": [
       "6"
      ]
     },
     "execution_count": 45,
     "metadata": {},
     "output_type": "execute_result"
    }
   ],
   "source": [
    "# selecting, boolean indexing & setting\n",
    "\n",
    "# by position\n",
    "df\n",
    "df.iloc[(0),(0)]                     #(selecting single value by row & column)\n",
    "\n",
    "df.iat[(0),(0)]\n",
    "\n",
    "# by label \n",
    "\n",
    "df.loc[(0), ('country')]            #(select single value by row & column)\n",
    "\n",
    "df.at[(0),('country')]\n",
    "\n",
    "# by label/position \n",
    "\n",
    "#df.ix[]\n",
    "\n",
    "# boolean indexing \n",
    "\n",
    "s[~(s > 1)]                         #(series s where value is not>1 s where value is <-1 or >2)\n",
    "\n",
    "s[(s<-1) | (s>2)]\n",
    "\n",
    "df[df['population']>120000000]                          #(use filter to adjust data frame)\n",
    "\n",
    "\n",
    "#setting\n",
    "\n",
    "s['a'] = 6\n",
    "s['a']\n"
   ]
  },
  {
   "cell_type": "code",
   "execution_count": 53,
   "metadata": {},
   "outputs": [
    {
     "data": {
      "text/html": [
       "<div>\n",
       "<style scoped>\n",
       "    .dataframe tbody tr th:only-of-type {\n",
       "        vertical-align: middle;\n",
       "    }\n",
       "\n",
       "    .dataframe tbody tr th {\n",
       "        vertical-align: top;\n",
       "    }\n",
       "\n",
       "    .dataframe thead th {\n",
       "        text-align: right;\n",
       "    }\n",
       "</style>\n",
       "<table border=\"1\" class=\"dataframe\">\n",
       "  <thead>\n",
       "    <tr style=\"text-align: right;\">\n",
       "      <th></th>\n",
       "      <th>capital</th>\n",
       "      <th>population</th>\n",
       "    </tr>\n",
       "  </thead>\n",
       "  <tbody>\n",
       "    <tr>\n",
       "      <th>0</th>\n",
       "      <td>brussels</td>\n",
       "      <td>11190846</td>\n",
       "    </tr>\n",
       "    <tr>\n",
       "      <th>1</th>\n",
       "      <td>new delhi</td>\n",
       "      <td>130316035</td>\n",
       "    </tr>\n",
       "    <tr>\n",
       "      <th>2</th>\n",
       "      <td>brasilla</td>\n",
       "      <td>204589631</td>\n",
       "    </tr>\n",
       "  </tbody>\n",
       "</table>\n",
       "</div>"
      ],
      "text/plain": [
       "     capital  population\n",
       "0   brussels    11190846\n",
       "1  new delhi   130316035\n",
       "2   brasilla   204589631"
      ]
     },
     "execution_count": 53,
     "metadata": {},
     "output_type": "execute_result"
    }
   ],
   "source": [
    "# dropping \n",
    "\n",
    "s.drop(['a','c'])                   #(drop value from row )\n",
    "\n",
    "df.drop('country', axis=1)          #(drop value from column)\n",
    "          "
   ]
  },
  {
   "cell_type": "code",
   "execution_count": 56,
   "metadata": {},
   "outputs": [
    {
     "data": {
      "text/html": [
       "<div>\n",
       "<style scoped>\n",
       "    .dataframe tbody tr th:only-of-type {\n",
       "        vertical-align: middle;\n",
       "    }\n",
       "\n",
       "    .dataframe tbody tr th {\n",
       "        vertical-align: top;\n",
       "    }\n",
       "\n",
       "    .dataframe thead th {\n",
       "        text-align: right;\n",
       "    }\n",
       "</style>\n",
       "<table border=\"1\" class=\"dataframe\">\n",
       "  <thead>\n",
       "    <tr style=\"text-align: right;\">\n",
       "      <th></th>\n",
       "      <th>country</th>\n",
       "      <th>capital</th>\n",
       "      <th>population</th>\n",
       "    </tr>\n",
       "  </thead>\n",
       "  <tbody>\n",
       "    <tr>\n",
       "      <th>0</th>\n",
       "      <td>1.0</td>\n",
       "      <td>2.0</td>\n",
       "      <td>1.0</td>\n",
       "    </tr>\n",
       "    <tr>\n",
       "      <th>1</th>\n",
       "      <td>3.0</td>\n",
       "      <td>3.0</td>\n",
       "      <td>2.0</td>\n",
       "    </tr>\n",
       "    <tr>\n",
       "      <th>2</th>\n",
       "      <td>2.0</td>\n",
       "      <td>1.0</td>\n",
       "      <td>3.0</td>\n",
       "    </tr>\n",
       "  </tbody>\n",
       "</table>\n",
       "</div>"
      ],
      "text/plain": [
       "   country  capital  population\n",
       "0      1.0      2.0         1.0\n",
       "1      3.0      3.0         2.0\n",
       "2      2.0      1.0         3.0"
      ]
     },
     "execution_count": 56,
     "metadata": {},
     "output_type": "execute_result"
    }
   ],
   "source": [
    "# sort & rank \n",
    "df.sort_index()                     #(sort by label along an axis)\n",
    "\n",
    "df.sort_values(by='country')        #(sort by the value along an axis)\n",
    "\n",
    "df.rank()                           #(assing rank to entries)"
   ]
  },
  {
   "cell_type": "code",
   "execution_count": null,
   "metadata": {},
   "outputs": [],
   "source": [
    "# retriveing series / dataframe information \n",
    "    # basic information\n",
    "\n",
    "df.shape                    #(row & column)\n",
    "\n",
    "df.index                    #(describe index)\n",
    "\n",
    "df.columns                  #(describe data frame column)\n",
    "\n",
    "df.info()                   #(info on dataframe)\n",
    "\n",
    "df.count()                  #(number of non-na values)\n",
    "\n",
    "\n",
    "# summary\n",
    "\n",
    "df.sum()                        #(sum of values)\n",
    "\n",
    "df.cumsum()                     #(cummulative sum of values)\n",
    "\n",
    "df.min()                        #(minimum values)\n",
    "\n",
    "df.max()                        #(maximum values)\n",
    "\n",
    "df.idxmin()                 #(minmum index value)\n",
    "\n",
    "df.idxmax()                 #(maximum index values)\n",
    "\n",
    "df.describe()                       #(summary statistics)\n",
    "\n",
    "#df.mean()                           #(mean of values)\n",
    "\n",
    "#df.median()                         #(median of values)"
   ]
  },
  {
   "cell_type": "code",
   "execution_count": null,
   "metadata": {},
   "outputs": [],
   "source": [
    "# appling functions\n",
    "\n",
    "f= lambda x: x*2\n",
    "\n",
    "df.apply(f)                     #(apply function)\n",
    "\n",
    "df.applymap(f)                  #(apply function element wise)\n"
   ]
  },
  {
   "cell_type": "code",
   "execution_count": 72,
   "metadata": {},
   "outputs": [
    {
     "data": {
      "text/plain": [
       "a    13.0\n",
       "b     NaN\n",
       "c     7.0\n",
       "d    10.0\n",
       "dtype: float64"
      ]
     },
     "execution_count": 72,
     "metadata": {},
     "output_type": "execute_result"
    }
   ],
   "source": [
    "# data alignment\n",
    "    # internal data alignment\n",
    "# NA values are introdused in the indicies that dont overlap:\n",
    "\n",
    "s3=pd.Series([7,-2,3],index=['a','c','d'])\n",
    "s3\n",
    "\n",
    "s + s3"
   ]
  },
  {
   "cell_type": "code",
   "execution_count": 76,
   "metadata": {},
   "outputs": [
    {
     "data": {
      "text/plain": [
       "a    42.0\n",
       "b   -15.0\n",
       "c   -18.0\n",
       "d    21.0\n",
       "dtype: float64"
      ]
     },
     "execution_count": 76,
     "metadata": {},
     "output_type": "execute_result"
    }
   ],
   "source": [
    "# arthimetic operations with fill methods\n",
    "    # you can also do the internal data alignment yourself with the help of the fill methods:\n",
    "\n",
    "s.add(s3, fill_value=0)\n",
    "\n",
    "s.sub(s3, fill_value=2)\n",
    "\n",
    "s.div(s3,fill_value=4)\n",
    "\n",
    "s.mul(s3,fill_value=3)\n"
   ]
  },
  {
   "cell_type": "code",
   "execution_count": null,
   "metadata": {},
   "outputs": [],
   "source": []
  }
 ],
 "metadata": {
  "kernelspec": {
   "display_name": "Python 3",
   "language": "python",
   "name": "python3"
  },
  "language_info": {
   "codemirror_mode": {
    "name": "ipython",
    "version": 3
   },
   "file_extension": ".py",
   "mimetype": "text/x-python",
   "name": "python",
   "nbconvert_exporter": "python",
   "pygments_lexer": "ipython3",
   "version": "3.10.10"
  }
 },
 "nbformat": 4,
 "nbformat_minor": 2
}
